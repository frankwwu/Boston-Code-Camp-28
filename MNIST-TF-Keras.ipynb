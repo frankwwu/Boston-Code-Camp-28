{
 "cells": [
  {
   "cell_type": "markdown",
   "metadata": {},
   "source": [
    "# TensorFlow with Keras Interface"
   ]
  },
  {
   "cell_type": "code",
   "execution_count": 1,
   "metadata": {
    "collapsed": false
   },
   "outputs": [
    {
     "name": "stderr",
     "output_type": "stream",
     "text": [
      "Using TensorFlow backend.\n"
     ]
    }
   ],
   "source": [
    "%matplotlib inline\n",
    "import keras\n",
    "from keras.datasets import mnist\n",
    "from keras.models import Sequential\n",
    "from keras.layers import Dense, Dropout\n",
    "from keras.optimizers import RMSprop\n",
    "from __future__ import print_function\n",
    "import matplotlib.pyplot as plt"
   ]
  },
  {
   "cell_type": "markdown",
   "metadata": {},
   "source": [
    "## 1. Loading the Data"
   ]
  },
  {
   "cell_type": "code",
   "execution_count": 15,
   "metadata": {
    "collapsed": false
   },
   "outputs": [
    {
     "name": "stdout",
     "output_type": "stream",
     "text": [
      "(60000, 28, 28)\n",
      "(60000,)\n",
      "(10000, 28, 28)\n",
      "(10000,)\n",
      "60000 train samples\n",
      "10000 test samples\n",
      "Image size: 28 * 28\n"
     ]
    }
   ],
   "source": [
    "# get MNIST dataset\n",
    "(x_train, y_train), (x_test, y_test) = mnist.load_data()\n",
    "\n",
    "print(x_train.shape)\n",
    "print(y_train.shape)\n",
    "print(x_test.shape)\n",
    "print(y_test.shape)\n",
    "\n",
    "# input image dimensions\n",
    "img_rows, img_cols = x_train.shape[1], x_train.shape[2]\n",
    "print(x_train.shape[0], 'train samples')\n",
    "print(x_test.shape[0], 'test samples')\n",
    "print('Image size:', img_rows, '*', img_cols)"
   ]
  },
  {
   "cell_type": "markdown",
   "metadata": {},
   "source": [
    "## 2. Displaying the Data in Images"
   ]
  },
  {
   "cell_type": "code",
   "execution_count": 3,
   "metadata": {
    "collapsed": false
   },
   "outputs": [
    {
     "name": "stdout",
     "output_type": "stream",
     "text": [
      "Some Training Data:\n"
     ]
    },
    {
     "data": {
      "image/png": "[encoded data removed]",
      "text/plain": [
       "<matplotlib.figure.Figure at 0x1abdaf68e10>"
      ]
     },
     "metadata": {},
     "output_type": "display_data"
    },
    {
     "name": "stdout",
     "output_type": "stream",
     "text": [
      "Some Test Data:\n"
     ]
    },
    {
     "data": {
      "image/png": "[encoded data removed]",
      "text/plain": [
       "<matplotlib.figure.Figure at 0x1abdf533ef0>"
      ]
     },
     "metadata": {},
     "output_type": "display_data"
    }
   ],
   "source": [
    "# display a few training images\n",
    "print('Some Training Data:')\n",
    "for i in range(3):\n",
    "  plt.subplot(3, 3, i+1)  \n",
    "  plt.axis('off')\n",
    "  plt.imshow(x_train[i])\n",
    "  plt.title(y_train[i])\n",
    "plt.show()\n",
    "\n",
    "# display a few test images\n",
    "print('Some Test Data:')\n",
    "for i in range(3):\n",
    "  plt.subplot(3, 3, i+1)  \n",
    "  plt.axis('off')\n",
    "  plt.imshow(x_test[i]) \n",
    "  plt.title(y_test[i])\n",
    "plt.show()"
   ]
  },
  {
   "cell_type": "markdown",
   "metadata": {},
   "source": [
    "## 3. Preparing the Data"
   ]
  },
  {
   "cell_type": "code",
   "execution_count": 4,
   "metadata": {
    "collapsed": false,
    "deletable": true,
    "editable": true
   },
   "outputs": [],
   "source": [
    "input_shape = img_rows * img_cols\n",
    "\n",
    "# convert the 3-d arrays into matrices. 28x28 images are flattened into length 784 vectors.\n",
    "x_train = x_train.reshape(60000, input_shape)\n",
    "x_test = x_test.reshape(10000, input_shape)\n",
    "x_train = x_train.astype('float32')\n",
    "x_test = x_test.astype('float32')\n",
    "\n",
    "# convert the grayscale values from integers ranging between 0 to 255 into floating point values ranging between 0 and 1.\n",
    "x_train /= 255\n",
    "x_test /= 255"
   ]
  },
  {
   "cell_type": "code",
   "execution_count": 5,
   "metadata": {
    "collapsed": false,
    "deletable": true,
    "editable": true
   },
   "outputs": [],
   "source": [
    "# one-hot encode the y integer vectors into binary class matrices\n",
    "num_classes = 10\n",
    "y_train = keras.utils.to_categorical(y_train, num_classes)\n",
    "y_test = keras.utils.to_categorical(y_test, num_classes)"
   ]
  },
  {
   "cell_type": "markdown",
   "metadata": {},
   "source": [
    "## 4. Defining the Model"
   ]
  },
  {
   "cell_type": "code",
   "execution_count": 6,
   "metadata": {
    "collapsed": true,
    "deletable": true,
    "editable": true
   },
   "outputs": [],
   "source": [
    "# creating a sequential model and then adding layers\n",
    "model = Sequential()\n",
    "model.add(Dense(512, activation='relu', input_shape=(input_shape,)))\n",
    "model.add(Dropout(0.2))\n",
    "model.add(Dense(512, activation='relu'))\n",
    "model.add(Dropout(0.2))\n",
    "model.add(Dense(num_classes, activation='softmax'))"
   ]
  },
  {
   "cell_type": "markdown",
   "metadata": {},
   "source": [
    "## 5. Displaying the Details of the Model"
   ]
  },
  {
   "cell_type": "code",
   "execution_count": 7,
   "metadata": {
    "collapsed": false,
    "deletable": true,
    "editable": true
   },
   "outputs": [
    {
     "name": "stdout",
     "output_type": "stream",
     "text": [
      "_________________________________________________________________\n",
      "Layer (type)                 Output Shape              Param #   \n",
      "=================================================================\n",
      "dense_1 (Dense)              (None, 512)               401920    \n",
      "_________________________________________________________________\n",
      "dropout_1 (Dropout)          (None, 512)               0         \n",
      "_________________________________________________________________\n",
      "dense_2 (Dense)              (None, 512)               262656    \n",
      "_________________________________________________________________\n",
      "dropout_2 (Dropout)          (None, 512)               0         \n",
      "_________________________________________________________________\n",
      "dense_3 (Dense)              (None, 10)                5130      \n",
      "=================================================================\n",
      "Total params: 669,706\n",
      "Trainable params: 669,706\n",
      "Non-trainable params: 0\n",
      "_________________________________________________________________\n"
     ]
    }
   ],
   "source": [
    "model.summary()"
   ]
  },
  {
   "cell_type": "markdown",
   "metadata": {},
   "source": [
    "## 6. Compiling the Model"
   ]
  },
  {
   "cell_type": "code",
   "execution_count": 8,
   "metadata": {
    "collapsed": false,
    "deletable": true,
    "editable": true
   },
   "outputs": [],
   "source": [
    "# compile the model with appropriate loss function, optimizer, and metrics\n",
    "model.compile(loss=keras.losses.categorical_crossentropy, optimizer=RMSprop(), metrics=['accuracy'])"
   ]
  },
  {
   "cell_type": "markdown",
   "metadata": {},
   "source": [
    "## 7. Training the Model"
   ]
  },
  {
   "cell_type": "code",
   "execution_count": 9,
   "metadata": {
    "collapsed": false,
    "deletable": true,
    "editable": true
   },
   "outputs": [
    {
     "name": "stdout",
     "output_type": "stream",
     "text": [
      "Train on 60000 samples, validate on 10000 samples\n",
      "Epoch 1/15\n",
      "60000/60000 [==============================] - 16s - loss: 0.2455 - acc: 0.9242 - val_loss: 0.0999 - val_acc: 0.9672\n",
      "Epoch 2/15\n",
      "60000/60000 [==============================] - 14s - loss: 0.1035 - acc: 0.9688 - val_loss: 0.0776 - val_acc: 0.9759\n",
      "Epoch 3/15\n",
      "60000/60000 [==============================] - 15s - loss: 0.0751 - acc: 0.9776 - val_loss: 0.0780 - val_acc: 0.9758\n",
      "Epoch 4/15\n",
      "60000/60000 [==============================] - 15s - loss: 0.0603 - acc: 0.9816 - val_loss: 0.0771 - val_acc: 0.9784\n",
      "Epoch 5/15\n",
      "60000/60000 [==============================] - 14s - loss: 0.0511 - acc: 0.9852 - val_loss: 0.0716 - val_acc: 0.9817\n",
      "Epoch 6/15\n",
      "60000/60000 [==============================] - 15s - loss: 0.0439 - acc: 0.9869 - val_loss: 0.0668 - val_acc: 0.9836\n",
      "Epoch 7/15\n",
      "60000/60000 [==============================] - 15s - loss: 0.0377 - acc: 0.9887 - val_loss: 0.0770 - val_acc: 0.9827\n",
      "Epoch 8/15\n",
      "60000/60000 [==============================] - 16s - loss: 0.0367 - acc: 0.9897 - val_loss: 0.0868 - val_acc: 0.9810\n",
      "Epoch 9/15\n",
      "60000/60000 [==============================] - 16s - loss: 0.0322 - acc: 0.9906 - val_loss: 0.0910 - val_acc: 0.9815\n",
      "Epoch 10/15\n",
      "60000/60000 [==============================] - 15s - loss: 0.0302 - acc: 0.9917 - val_loss: 0.0843 - val_acc: 0.9822\n",
      "Epoch 11/15\n",
      "60000/60000 [==============================] - 14s - loss: 0.0266 - acc: 0.9921 - val_loss: 0.0938 - val_acc: 0.9819\n",
      "Epoch 12/15\n",
      "60000/60000 [==============================] - 14s - loss: 0.0251 - acc: 0.9931 - val_loss: 0.0952 - val_acc: 0.9804\n",
      "Epoch 13/15\n",
      "60000/60000 [==============================] - 16s - loss: 0.0220 - acc: 0.9935 - val_loss: 0.0926 - val_acc: 0.9818\n",
      "Epoch 14/15\n",
      "60000/60000 [==============================] - 16s - loss: 0.0223 - acc: 0.9940 - val_loss: 0.0940 - val_acc: 0.9830\n",
      "Epoch 15/15\n",
      "60000/60000 [==============================] - 15s - loss: 0.0226 - acc: 0.9937 - val_loss: 0.1089 - val_acc: 0.9802\n"
     ]
    }
   ],
   "source": [
    "# Use the fit() function to train the model for 10 epochs using batches of 128 images\n",
    "history = model.fit(x_train, y_train, batch_size=128, epochs=15, verbose=1, validation_data=(x_test, y_test))"
   ]
  },
  {
   "cell_type": "markdown",
   "metadata": {},
   "source": [
    "## 8. Display the Training Detail"
   ]
  },
  {
   "cell_type": "code",
   "execution_count": 10,
   "metadata": {
    "collapsed": false
   },
   "outputs": [
    {
     "name": "stdout",
     "output_type": "stream",
     "text": [
      "dict_keys(['val_loss', 'acc', 'loss', 'val_acc'])\n"
     ]
    },
    {
     "data": {
      "image/png": "[encoded data removed]",
      "text/plain": [
       "<matplotlib.figure.Figure at 0x1abdf71aeb8>"
      ]
     },
     "metadata": {},
     "output_type": "display_data"
    },
    {
     "data": {
      "image/png": "[encoded data removed]",
      "text/plain": [
       "<matplotlib.figure.Figure at 0x1abdf6f1908>"
      ]
     },
     "metadata": {},
     "output_type": "display_data"
    }
   ],
   "source": [
    "# display all data in history\n",
    "print(history.history.keys())\n",
    "# summarize history for accuracy\n",
    "plt.plot(history.history['acc'])\n",
    "plt.plot(history.history['val_acc'])\n",
    "plt.title('model accuracy')\n",
    "plt.ylabel('accuracy')\n",
    "plt.xlabel('epoch')\n",
    "plt.legend(['train', 'test'], loc='upper left')\n",
    "plt.show()\n",
    "# summarize history for loss\n",
    "plt.plot(history.history['loss'])\n",
    "plt.plot(history.history['val_loss'])\n",
    "plt.title('model loss')\n",
    "plt.ylabel('loss')\n",
    "plt.xlabel('epoch')\n",
    "plt.legend(['train', 'test'], loc='upper left')\n",
    "plt.show()"
   ]
  },
  {
   "cell_type": "markdown",
   "metadata": {},
   "source": [
    "## 9 Evaluating the Model"
   ]
  },
  {
   "cell_type": "code",
   "execution_count": 11,
   "metadata": {
    "collapsed": false,
    "deletable": true,
    "editable": true
   },
   "outputs": [
    {
     "name": "stdout",
     "output_type": "stream",
     "text": [
      "Test loss: 0.10885010956\n",
      "Test accuracy: 0.9802\n"
     ]
    }
   ],
   "source": [
    "# Evaluate the model's performance on the test data:\n",
    "score = model.evaluate(x_test, y_test, verbose=0)\n",
    "print('Test loss:', score[0])\n",
    "print('Test accuracy:', score[1])"
   ]
  },
  {
   "cell_type": "markdown",
   "metadata": {},
   "source": [
    "## 10 Generate Predictions with the Test Data"
   ]
  },
  {
   "cell_type": "code",
   "execution_count": 12,
   "metadata": {
    "collapsed": false
   },
   "outputs": [
    {
     "name": "stdout",
     "output_type": "stream",
     "text": [
      " 9995/10000 [============================>.] - ETA: 0s[7 2 1 ..., 4 5 6]\n"
     ]
    }
   ],
   "source": [
    "# Generate predictions on test data:\n",
    "classes = model.predict_classes(x_test, batch_size=1)\n",
    "print(classes)"
   ]
  }
 ],
 "metadata": {
  "anaconda-cloud": {},
  "celltoolbar": "Raw Cell Format",
  "kernelspec": {
   "display_name": "Python [Root]",
   "language": "python",
   "name": "Python [Root]"
  },
  "language_info": {
   "codemirror_mode": {
    "name": "ipython",
    "version": 3
   },
   "file_extension": ".py",
   "mimetype": "text/x-python",
   "name": "python",
   "nbconvert_exporter": "python",
   "pygments_lexer": "ipython3",
   "version": "3.5.2"
  }
 },
 "nbformat": 4,
 "nbformat_minor": 1
}
